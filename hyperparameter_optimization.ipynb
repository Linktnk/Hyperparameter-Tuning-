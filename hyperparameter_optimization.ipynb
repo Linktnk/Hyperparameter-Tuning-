{
  "nbformat": 4,
  "nbformat_minor": 0,
  "metadata": {
    "colab": {
      "name": "Big_data_Article.ipynb",
      "provenance": []
    },
    "kernelspec": {
      "name": "python3",
      "display_name": "Python 3"
    },
    "language_info": {
      "name": "python"
    },
    "accelerator": "GPU"
  },
  "cells": [
    {
      "cell_type": "markdown",
      "metadata": {
        "id": "UHPZkeNBdddz"
      },
      "source": [
        "# Introduction to Hyperparameter Optimization\n",
        "\n",
        "\n",
        "*   Sample Code for an article in https://bigdata.go.th/big-data-101/machine-learning-model-hyperparameter-optimization/\n",
        "*   Created by Tinnakorn Marlaithong  (11/11/2021)\n",
        "\n",
        "\n"
      ]
    },
    {
      "cell_type": "code",
      "metadata": {
        "id": "wZ_-bFyxg-ys"
      },
      "source": [
        "import pandas as pd\n",
        "import numpy as np\n",
        "import re\n",
        "from sklearn.model_selection import train_test_split\n",
        "from sklearn.metrics import accuracy_score,classification_report,confusion_matrix\n",
        "from sklearn.model_selection import cross_val_score\n",
        "from sklearn.ensemble import RandomForestClassifier"
      ],
      "execution_count": 2,
      "outputs": []
    },
    {
      "cell_type": "markdown",
      "metadata": {
        "id": "Z0-YYaKMmOwd"
      },
      "source": [
        "## Import Data"
      ]
    },
    {
      "cell_type": "code",
      "metadata": {
        "id": "f9-f5u0lmRvT"
      },
      "source": [
        "train = pd.read_csv('https://raw.githubusercontent.com/Linktnk/Hyperparameter-Tuning-/main/data/titanic_train.csv')\n",
        "test = pd.read_csv('https://raw.githubusercontent.com/Linktnk/Hyperparameter-Tuning-/main/data/titanic_test.csv')"
      ],
      "execution_count": null,
      "outputs": []
    },
    {
      "cell_type": "code",
      "metadata": {
        "colab": {
          "base_uri": "https://localhost:8080/",
          "height": 204
        },
        "id": "AkUBumeVmjjk",
        "outputId": "bff24656-ba23-4fb9-820f-cb2d7433eac9"
      },
      "source": [
        "train.head()"
      ],
      "execution_count": null,
      "outputs": [
        {
          "output_type": "execute_result",
          "data": {
            "text/html": [
              "<div>\n",
              "<style scoped>\n",
              "    .dataframe tbody tr th:only-of-type {\n",
              "        vertical-align: middle;\n",
              "    }\n",
              "\n",
              "    .dataframe tbody tr th {\n",
              "        vertical-align: top;\n",
              "    }\n",
              "\n",
              "    .dataframe thead th {\n",
              "        text-align: right;\n",
              "    }\n",
              "</style>\n",
              "<table border=\"1\" class=\"dataframe\">\n",
              "  <thead>\n",
              "    <tr style=\"text-align: right;\">\n",
              "      <th></th>\n",
              "      <th>Survived</th>\n",
              "      <th>Pclass</th>\n",
              "      <th>Sex</th>\n",
              "      <th>Age</th>\n",
              "      <th>Parch</th>\n",
              "      <th>Fare</th>\n",
              "      <th>Embarked</th>\n",
              "      <th>Name_length</th>\n",
              "      <th>Has_Cabin</th>\n",
              "      <th>FamilySize</th>\n",
              "      <th>IsAlone</th>\n",
              "      <th>Title</th>\n",
              "    </tr>\n",
              "  </thead>\n",
              "  <tbody>\n",
              "    <tr>\n",
              "      <th>0</th>\n",
              "      <td>0</td>\n",
              "      <td>3</td>\n",
              "      <td>1</td>\n",
              "      <td>1</td>\n",
              "      <td>0</td>\n",
              "      <td>0</td>\n",
              "      <td>0</td>\n",
              "      <td>23</td>\n",
              "      <td>0</td>\n",
              "      <td>2</td>\n",
              "      <td>0</td>\n",
              "      <td>1</td>\n",
              "    </tr>\n",
              "    <tr>\n",
              "      <th>1</th>\n",
              "      <td>1</td>\n",
              "      <td>1</td>\n",
              "      <td>0</td>\n",
              "      <td>2</td>\n",
              "      <td>0</td>\n",
              "      <td>3</td>\n",
              "      <td>1</td>\n",
              "      <td>51</td>\n",
              "      <td>1</td>\n",
              "      <td>2</td>\n",
              "      <td>0</td>\n",
              "      <td>3</td>\n",
              "    </tr>\n",
              "    <tr>\n",
              "      <th>2</th>\n",
              "      <td>1</td>\n",
              "      <td>3</td>\n",
              "      <td>0</td>\n",
              "      <td>1</td>\n",
              "      <td>0</td>\n",
              "      <td>1</td>\n",
              "      <td>0</td>\n",
              "      <td>22</td>\n",
              "      <td>0</td>\n",
              "      <td>1</td>\n",
              "      <td>1</td>\n",
              "      <td>2</td>\n",
              "    </tr>\n",
              "    <tr>\n",
              "      <th>3</th>\n",
              "      <td>1</td>\n",
              "      <td>1</td>\n",
              "      <td>0</td>\n",
              "      <td>2</td>\n",
              "      <td>0</td>\n",
              "      <td>3</td>\n",
              "      <td>0</td>\n",
              "      <td>44</td>\n",
              "      <td>1</td>\n",
              "      <td>2</td>\n",
              "      <td>0</td>\n",
              "      <td>3</td>\n",
              "    </tr>\n",
              "    <tr>\n",
              "      <th>4</th>\n",
              "      <td>0</td>\n",
              "      <td>3</td>\n",
              "      <td>1</td>\n",
              "      <td>2</td>\n",
              "      <td>0</td>\n",
              "      <td>1</td>\n",
              "      <td>0</td>\n",
              "      <td>24</td>\n",
              "      <td>0</td>\n",
              "      <td>1</td>\n",
              "      <td>1</td>\n",
              "      <td>1</td>\n",
              "    </tr>\n",
              "  </tbody>\n",
              "</table>\n",
              "</div>"
            ],
            "text/plain": [
              "   Survived  Pclass  Sex  Age  ...  Has_Cabin  FamilySize  IsAlone  Title\n",
              "0         0       3    1    1  ...          0           2        0      1\n",
              "1         1       1    0    2  ...          1           2        0      3\n",
              "2         1       3    0    1  ...          0           1        1      2\n",
              "3         1       1    0    2  ...          1           2        0      3\n",
              "4         0       3    1    2  ...          0           1        1      1\n",
              "\n",
              "[5 rows x 12 columns]"
            ]
          },
          "metadata": {},
          "execution_count": 3
        }
      ]
    },
    {
      "cell_type": "code",
      "metadata": {
        "id": "QoUdi0qchWVp"
      },
      "source": [
        "X=train.drop(['Survived'],axis=1)\n",
        "y=train['Survived']\n",
        "X_train,X_test,y_train,y_test=train_test_split(X,y,test_size=0.2, random_state=101)"
      ],
      "execution_count": null,
      "outputs": []
    },
    {
      "cell_type": "markdown",
      "metadata": {
        "id": "J_dLs7tihfH-"
      },
      "source": [
        "## Default"
      ]
    },
    {
      "cell_type": "code",
      "metadata": {
        "colab": {
          "base_uri": "https://localhost:8080/"
        },
        "id": "u2OA9l3siQSW",
        "outputId": "7b5b7f23-02b6-4117-f519-325ad08e7a13"
      },
      "source": [
        "%%time\n",
        "\n",
        "model = RandomForestClassifier(random_state= 101).fit(X_train,y_train)\n",
        "predictionforest = model.predict(X_test)\n",
        "print(confusion_matrix(y_test,predictionforest))\n",
        "print(classification_report(y_test,predictionforest))\n",
        "acc1 = accuracy_score(y_test,predictionforest)"
      ],
      "execution_count": null,
      "outputs": [
        {
          "output_type": "stream",
          "name": "stdout",
          "text": [
            "[[91  8]\n",
            " [31 49]]\n",
            "              precision    recall  f1-score   support\n",
            "\n",
            "           0       0.75      0.92      0.82        99\n",
            "           1       0.86      0.61      0.72        80\n",
            "\n",
            "    accuracy                           0.78       179\n",
            "   macro avg       0.80      0.77      0.77       179\n",
            "weighted avg       0.80      0.78      0.78       179\n",
            "\n",
            "CPU times: user 191 ms, sys: 2.72 ms, total: 194 ms\n",
            "Wall time: 198 ms\n"
          ]
        }
      ]
    },
    {
      "cell_type": "code",
      "metadata": {
        "colab": {
          "base_uri": "https://localhost:8080/"
        },
        "id": "yz7P5sa6hkLm",
        "outputId": "a57cc29c-75f2-43a5-ac3d-c9b4f53d36cb"
      },
      "source": [
        "model.get_params()"
      ],
      "execution_count": null,
      "outputs": [
        {
          "output_type": "execute_result",
          "data": {
            "text/plain": [
              "{'bootstrap': True,\n",
              " 'ccp_alpha': 0.0,\n",
              " 'class_weight': None,\n",
              " 'criterion': 'gini',\n",
              " 'max_depth': None,\n",
              " 'max_features': 'auto',\n",
              " 'max_leaf_nodes': None,\n",
              " 'max_samples': None,\n",
              " 'min_impurity_decrease': 0.0,\n",
              " 'min_impurity_split': None,\n",
              " 'min_samples_leaf': 1,\n",
              " 'min_samples_split': 2,\n",
              " 'min_weight_fraction_leaf': 0.0,\n",
              " 'n_estimators': 100,\n",
              " 'n_jobs': None,\n",
              " 'oob_score': False,\n",
              " 'random_state': 101,\n",
              " 'verbose': 0,\n",
              " 'warm_start': False}"
            ]
          },
          "metadata": {},
          "execution_count": 16
        }
      ]
    },
    {
      "cell_type": "code",
      "metadata": {
        "colab": {
          "base_uri": "https://localhost:8080/"
        },
        "id": "vF5A0nNEt309",
        "outputId": "d1001126-0b0b-4e3e-e012-690705c23822"
      },
      "source": [
        "acc1"
      ],
      "execution_count": null,
      "outputs": [
        {
          "output_type": "execute_result",
          "data": {
            "text/plain": [
              "0.7821229050279329"
            ]
          },
          "metadata": {},
          "execution_count": 17
        }
      ]
    },
    {
      "cell_type": "markdown",
      "metadata": {
        "id": "vdoALNexiGF1"
      },
      "source": [
        "## Manual Search"
      ]
    },
    {
      "cell_type": "code",
      "metadata": {
        "colab": {
          "base_uri": "https://localhost:8080/"
        },
        "id": "5k-OUkHGk2vt",
        "outputId": "1c9f6f88-9e87-4e3a-9ba9-a55cd72c19a6"
      },
      "source": [
        "%%time\n",
        "model = RandomForestClassifier(n_estimators=10, random_state= 101).fit(X_train,y_train)\n",
        "predictionforest = model.predict(X_test)\n",
        "print(confusion_matrix(y_test,predictionforest))\n",
        "print(classification_report(y_test,predictionforest))\n",
        "acc2 = accuracy_score(y_test,predictionforest)"
      ],
      "execution_count": null,
      "outputs": [
        {
          "output_type": "stream",
          "name": "stdout",
          "text": [
            "[[91  8]\n",
            " [33 47]]\n",
            "              precision    recall  f1-score   support\n",
            "\n",
            "           0       0.73      0.92      0.82        99\n",
            "           1       0.85      0.59      0.70        80\n",
            "\n",
            "    accuracy                           0.77       179\n",
            "   macro avg       0.79      0.75      0.76       179\n",
            "weighted avg       0.79      0.77      0.76       179\n",
            "\n",
            "CPU times: user 32 ms, sys: 1.43 ms, total: 33.4 ms\n",
            "Wall time: 34.4 ms\n"
          ]
        }
      ]
    },
    {
      "cell_type": "code",
      "metadata": {
        "colab": {
          "base_uri": "https://localhost:8080/"
        },
        "id": "YMkOGPlNh1tK",
        "outputId": "fbe6199f-981c-406c-f884-fd8ad1eac804"
      },
      "source": [
        "%%time\n",
        "model = RandomForestClassifier(n_estimators=10,max_features = \"log2\", min_samples_leaf = 30, random_state= 101).fit(X_train,y_train)\n",
        "predictionforest = model.predict(X_test)\n",
        "print(confusion_matrix(y_test,predictionforest))\n",
        "print(classification_report(y_test,predictionforest))"
      ],
      "execution_count": null,
      "outputs": [
        {
          "output_type": "stream",
          "name": "stdout",
          "text": [
            "[[98  1]\n",
            " [42 38]]\n",
            "              precision    recall  f1-score   support\n",
            "\n",
            "           0       0.70      0.99      0.82        99\n",
            "           1       0.97      0.47      0.64        80\n",
            "\n",
            "    accuracy                           0.76       179\n",
            "   macro avg       0.84      0.73      0.73       179\n",
            "weighted avg       0.82      0.76      0.74       179\n",
            "\n",
            "CPU times: user 37.4 ms, sys: 1.82 ms, total: 39.2 ms\n",
            "Wall time: 40.1 ms\n"
          ]
        }
      ]
    },
    {
      "cell_type": "code",
      "metadata": {
        "colab": {
          "base_uri": "https://localhost:8080/"
        },
        "id": "-QQdHykOk4mQ",
        "outputId": "3ac9acfb-6c4c-4adb-c26f-5d27fd4a9ad9"
      },
      "source": [
        "acc2"
      ],
      "execution_count": null,
      "outputs": [
        {
          "output_type": "execute_result",
          "data": {
            "text/plain": [
              "0.770949720670391"
            ]
          },
          "metadata": {},
          "execution_count": 19
        }
      ]
    },
    {
      "cell_type": "markdown",
      "metadata": {
        "id": "1-vDvza7j_C3"
      },
      "source": [
        "## Grid Search"
      ]
    },
    {
      "cell_type": "code",
      "metadata": {
        "id": "RCd7qZoSkAot"
      },
      "source": [
        "parameters ={\n",
        "     'max_depth': [10, 20, 30, 40, 50, 60, 70, 80, 90, 100],\n",
        "     'criterion' : ['gini', 'entropy'],\n",
        "     'max_features': [0.3,0.5,0.7,0.9],\n",
        "     'min_samples_leaf': [3,5,7,10,15],\n",
        "     'min_samples_split': [2,5,10],\n",
        "     'n_estimators': [50,100,200,400,600]}"
      ],
      "execution_count": null,
      "outputs": []
    },
    {
      "cell_type": "code",
      "metadata": {
        "colab": {
          "base_uri": "https://localhost:8080/"
        },
        "id": "NK4N5OkRlOmR",
        "outputId": "d0efb2e9-42c9-4a71-a1ed-acb085df35ae"
      },
      "source": [
        "%%time\n",
        "from sklearn.model_selection import GridSearchCV\n",
        "clf = RandomForestClassifier()\n",
        "model = GridSearchCV(\n",
        "    clf, \n",
        "    parameters, \n",
        "    cv= 4,\n",
        "    scoring='accuracy',n_jobs=-1)\n",
        "\n",
        "grid_result= model.fit(X_train, y_train)\n",
        "print('Best Params: ', grid_result.best_params_)\n",
        "print('Best Score: ', grid_result.best_score_)"
      ],
      "execution_count": null,
      "outputs": [
        {
          "output_type": "stream",
          "name": "stdout",
          "text": [
            "Best Params:  {'criterion': 'gini', 'max_depth': 40, 'max_features': 0.7, 'min_samples_leaf': 5, 'min_samples_split': 10, 'n_estimators': 50}\n",
            "Best Score:  0.8384831460674157\n",
            "CPU times: user 3min 10s, sys: 12 s, total: 3min 22s\n",
            "Wall time: 2h 56min 28s\n"
          ]
        }
      ]
    },
    {
      "cell_type": "code",
      "metadata": {
        "colab": {
          "base_uri": "https://localhost:8080/"
        },
        "id": "5nPVTMjyls3E",
        "outputId": "4610a05f-1606-4a7e-c1fe-2493580826bd"
      },
      "source": [
        "predictionforest = model.best_estimator_.predict(X_test)\n",
        "print(confusion_matrix(y_test,predictionforest))\n",
        "print(classification_report(y_test,predictionforest))\n",
        "acc3 = accuracy_score(y_test,predictionforest)"
      ],
      "execution_count": null,
      "outputs": [
        {
          "output_type": "stream",
          "name": "stdout",
          "text": [
            "[[94  5]\n",
            " [24 56]]\n",
            "              precision    recall  f1-score   support\n",
            "\n",
            "           0       0.80      0.95      0.87        99\n",
            "           1       0.92      0.70      0.79        80\n",
            "\n",
            "    accuracy                           0.84       179\n",
            "   macro avg       0.86      0.82      0.83       179\n",
            "weighted avg       0.85      0.84      0.83       179\n",
            "\n"
          ]
        }
      ]
    },
    {
      "cell_type": "code",
      "metadata": {
        "id": "uzQHUII3on1L"
      },
      "source": [
        "acc3"
      ],
      "execution_count": null,
      "outputs": []
    },
    {
      "cell_type": "markdown",
      "metadata": {
        "id": "NGQJBaM7sVyj"
      },
      "source": [
        "## Random Search"
      ]
    },
    {
      "cell_type": "code",
      "metadata": {
        "colab": {
          "base_uri": "https://localhost:8080/"
        },
        "id": "cmILE_JqsYaH",
        "outputId": "42bbf616-81ba-4479-83fb-d09b7a9024c7"
      },
      "source": [
        "%%time\n",
        "from sklearn.model_selection import RandomizedSearchCV\n",
        "\n",
        "clf = RandomForestClassifier()\n",
        "model = RandomizedSearchCV(estimator = clf, param_distributions = parameters, n_iter = 80, \n",
        "                               cv = 4, verbose= 1, random_state= 101, n_jobs = -1)\n",
        "model.fit(X_train,y_train)\n",
        "print('Best Score: ', model.best_score_*100)\n",
        "print('Best Params: ', model.best_params_)"
      ],
      "execution_count": null,
      "outputs": [
        {
          "output_type": "stream",
          "name": "stdout",
          "text": [
            "Fitting 4 folds for each of 80 candidates, totalling 320 fits\n"
          ]
        },
        {
          "output_type": "stream",
          "name": "stderr",
          "text": [
            "[Parallel(n_jobs=-1)]: Using backend LokyBackend with 2 concurrent workers.\n",
            "[Parallel(n_jobs=-1)]: Done  46 tasks      | elapsed:   15.4s\n",
            "[Parallel(n_jobs=-1)]: Done 196 tasks      | elapsed:  1.6min\n",
            "[Parallel(n_jobs=-1)]: Done 320 out of 320 | elapsed:  2.6min finished\n"
          ]
        },
        {
          "output_type": "stream",
          "name": "stdout",
          "text": [
            "Best Score:  83.14606741573034\n",
            "Best Params:  {'n_estimators': 200, 'min_samples_split': 2, 'min_samples_leaf': 3, 'max_features': 0.5, 'max_depth': 30, 'criterion': 'gini'}\n",
            "CPU times: user 2.99 s, sys: 196 ms, total: 3.19 s\n",
            "Wall time: 2min 38s\n"
          ]
        }
      ]
    },
    {
      "cell_type": "code",
      "metadata": {
        "colab": {
          "base_uri": "https://localhost:8080/"
        },
        "id": "ObKiSrINtiBX",
        "outputId": "e6ddf73d-8bf5-4f90-d1ae-1a4cf30c5963"
      },
      "source": [
        "predictionforest = model.best_estimator_.predict(X_test)\n",
        "print(confusion_matrix(y_test,predictionforest))\n",
        "print(classification_report(y_test,predictionforest))\n",
        "acc4 = accuracy_score(y_test,predictionforest)"
      ],
      "execution_count": null,
      "outputs": [
        {
          "output_type": "stream",
          "name": "stdout",
          "text": [
            "[[93  6]\n",
            " [29 51]]\n",
            "              precision    recall  f1-score   support\n",
            "\n",
            "           0       0.76      0.94      0.84        99\n",
            "           1       0.89      0.64      0.74        80\n",
            "\n",
            "    accuracy                           0.80       179\n",
            "   macro avg       0.83      0.79      0.79       179\n",
            "weighted avg       0.82      0.80      0.80       179\n",
            "\n"
          ]
        }
      ]
    },
    {
      "cell_type": "code",
      "metadata": {
        "colab": {
          "base_uri": "https://localhost:8080/"
        },
        "id": "HTuEWMI_0Sst",
        "outputId": "cb67e7f4-40f8-4580-86a5-7f6feeb81f18"
      },
      "source": [
        "acc4\n"
      ],
      "execution_count": null,
      "outputs": [
        {
          "output_type": "execute_result",
          "data": {
            "text/plain": [
              "0.8044692737430168"
            ]
          },
          "metadata": {},
          "execution_count": 23
        }
      ]
    },
    {
      "cell_type": "code",
      "metadata": {
        "colab": {
          "base_uri": "https://localhost:8080/"
        },
        "id": "GYUUiv2scUA6",
        "outputId": "e15b7c3b-f5da-44e7-cb66-d2fa7f191bce"
      },
      "source": [
        "print('Base Accuracy vs Manual Search {:0.4f}%.'.format( 100 * (acc2 - acc1) / acc1))\n",
        "print('Base Accuracy vs Grid Search {:0.4f}%.'.format( 100 * (acc3 - acc1) / acc1))\n",
        "print('Base Accuracy vs Random Search {:0.4f}%.'.format( 100 * (acc4 - acc1) / acc1))\n"
      ],
      "execution_count": 6,
      "outputs": [
        {
          "output_type": "stream",
          "name": "stdout",
          "text": [
            "Base Accuracy vs Manual Search -1.4286%.\n",
            "Base Accuracy vs Grid Search 8.4612%.\n",
            "Base Accuracy vs Random Search 2.8571%.\n"
          ]
        }
      ]
    },
    {
      "cell_type": "code",
      "metadata": {
        "id": "KZSQI7IKdGbz"
      },
      "source": [
        ""
      ],
      "execution_count": null,
      "outputs": []
    }
  ]
}
